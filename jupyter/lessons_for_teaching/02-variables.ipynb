{
 "cells": [
  {
   "cell_type": "markdown",
   "metadata": {},
   "source": [
    "# Variables"
   ]
  },
  {
   "cell_type": "markdown",
   "metadata": {},
   "source": [
    "## Use variables to store values.\n",
    "\n",
    "*   Variables are names for values.\n",
    "*   In Python the `=` symbol assigns the value on the right to the name on the left.\n",
    "*   The variable is created when a value is assigned to it.\n",
    "*   Here, Python assigns an age to a variable `age`\n",
    "and a name in quotes to a variable `first_name`."
   ]
  },
  {
   "cell_type": "code",
   "execution_count": null,
   "metadata": {},
   "outputs": [],
   "source": []
  },
  {
   "cell_type": "markdown",
   "metadata": {},
   "source": [
    "*   Variable names\n",
    "* can **only** contain letters, digits, and underscore `_` (typically used to separate words in long variable names)\n",
    "* cannot start with a digit\n",
    "*   Variable names that start with underscores like `__alistairs_real_age` have a special meaning\n",
    "so we won't do that until we understand the convention.\n",
    "\n",
    "## Use `print` to display values.\n",
    "\n",
    "*   Python has a built-in function called `print` that prints things as text.\n",
    "*   Call the function (i.e., tell Python to run it) by using its name.\n",
    "*   Provide values to the function (i.e., the things to print) in parentheses.\n",
    "*   To add a string to the printout, wrap the string in single or double quotes.\n",
    "*   The values passed to the function are called 'arguments'"
   ]
  },
  {
   "cell_type": "code",
   "execution_count": null,
   "metadata": {},
   "outputs": [],
   "source": []
  },
  {
   "cell_type": "markdown",
   "metadata": {},
   "source": [
    "\n",
    "*   `print` automatically puts a single space between items to separate them.\n",
    "*   And wraps around to a new line at the end.\n",
    "\n",
    "## Variables must be created before they are used.\n",
    "\n",
    "*   If a variable doesn't exist yet, or if the name has been mis-spelled,\n",
    "Python reports an error.\n",
    "*   Unlike some languages, which \"guess\" a default value."
   ]
  },
  {
   "cell_type": "code",
   "execution_count": null,
   "metadata": {},
   "outputs": [],
   "source": []
  },
  {
   "cell_type": "markdown",
   "metadata": {},
   "source": [
    "*   The last line of an error message is usually the most informative.\n",
    "*   We will look at error messages in detail [later]({{ page.root }}/15-scope/#reading-error-messages).\n",
    "\n",
    "## Variables Persist Between Cells\n",
    "\n",
    "Be aware that it is the order of **execution** of cells that is important in a Jupyter notebook, not the order\n",
    "in which they appear. Python will remember **all** the code that was run previously, including any variables you have\n",
    "defined, irrespective of the order in the notebook. Therefore if you define variables lower down the notebook and then\n",
    "(re)run cells further up, those defined further down will still be present. As an example, create 2 cells with the\n",
    "following content, in this order:"
   ]
  },
  {
   "cell_type": "code",
   "execution_count": null,
   "metadata": {},
   "outputs": [],
   "source": [
    "print(myval)"
   ]
  },
  {
   "cell_type": "code",
   "execution_count": null,
   "metadata": {},
   "outputs": [],
   "source": [
    "myval = 1"
   ]
  },
  {
   "cell_type": "markdown",
   "metadata": {},
   "source": [
    "If you execute this in order, the first cell will give an error. However, if you run the first cell **after** the second\n",
    "cell it will print out ‘1’. To prevent confusion, it can be helpful to use the `Kernel` -> `Restart & Run All` option which\n",
    "clears the interpreter and runs everything from a clean slate going top to bottom.\n",
    "\n",
    "\n",
    "## Variables can be used in calculations.\n",
    "\n",
    "*   We can use variables in calculations just as if they were values.\n",
    "*   Remember, we assigned 42 to `age` a few lines ago."
   ]
  },
  {
   "cell_type": "code",
   "execution_count": null,
   "metadata": {},
   "outputs": [],
   "source": []
  },
  {
   "cell_type": "markdown",
   "metadata": {},
   "source": [
    "## Use an index to get a single character from a string.\n",
    "\n",
    "*   The characters (individual letters, numbers, and so on) in a string are\n",
    "ordered. For example, the string 'AB' is not the same as 'BA'. Because of\n",
    "this ordering, we can treat the string as a list of characters.\n",
    "*   Each position in the string (first, second, etc.) is given a number. This\n",
    "number is called an index or sometimes a subscript.\n",
    "*   Indices are numbered from 0.\n",
    "*   Use the position's index in square brackets to get the character at that\n",
    "position."
   ]
  },
  {
   "cell_type": "code",
   "execution_count": null,
   "metadata": {},
   "outputs": [],
   "source": []
  },
  {
   "cell_type": "markdown",
   "metadata": {},
   "source": [
    "## Use a slice to get a substring.\n",
    "\n",
    "*   A part of a string is called a substring. A substring can be as short as a\n",
    "single character.\n",
    "*   An item in a list is called an element. Whenever we treat a string as if it\n",
    "were a list, the string's elements are its individual characters.\n",
    "*   A slice is a part of a string (or, more generally, any list-like thing).\n",
    "*   We take a slice by using `[start:stop]`, where `start` is replaced with the\n",
    "index of the first element we want and `stop` is replaced with the index of\n",
    "the element just after the last element we want.\n",
    "*   Mathematically, you might say that a slice selects `[start:stop)`.\n",
    "*   The difference between stop and start is the slice's length.\n",
    "*   Taking a slice does not change the contents of the original string. Instead,\n",
    "the slice is a copy of part of the original string."
   ]
  },
  {
   "cell_type": "code",
   "execution_count": null,
   "metadata": {},
   "outputs": [],
   "source": []
  },
  {
   "cell_type": "markdown",
   "metadata": {},
   "source": [
    "## Use the built-in function `len` to find the length of a string."
   ]
  },
  {
   "cell_type": "code",
   "execution_count": null,
   "metadata": {},
   "outputs": [],
   "source": []
  },
  {
   "cell_type": "markdown",
   "metadata": {},
   "source": [
    "*   Nested functions are evaluated from the inside out,\n",
    "just like in mathematics.\n",
    "\n",
    "## Python is case-sensitive.\n",
    "\n",
    "*   Python thinks that upper- and lower-case letters are different,\n",
    "so `Name` and `name` are different variables.\n",
    "*   There are conventions for using upper-case letters at the start of variable names so we will use lower-case letters for now.\n",
    "\n",
    "## Use meaningful variable names.\n",
    "\n",
    "*   Python doesn't care what you call variables as long as they obey the rules\n",
    "(alphanumeric characters and the underscore)."
   ]
  },
  {
   "cell_type": "code",
   "execution_count": null,
   "metadata": {},
   "outputs": [],
   "source": []
  },
  {
   "cell_type": "markdown",
   "metadata": {},
   "source": [
    "*   Use meaningful variable names to help other people understand what the program does.\n",
    "*   The most important \"other person\" is your future self."
   ]
  },
  {
   "cell_type": "markdown",
   "metadata": {},
   "source": [
    "# Challenges"
   ]
  },
  {
   "cell_type": "markdown",
   "metadata": {},
   "source": [
    "## Swapping Values\n",
    "\n",
    "Fill the table showing the values of the variables in this program\n",
    "**after** each statement is executed.\n",
    "\n",
    "~~~python\n",
    "# Command  # Value of x   # Value of y   # Value of swap #\n",
    "x = 1.0    #              #              #               #\n",
    "y = 3.0    #              #              #               #\n",
    "swap = x   #              #              #               #\n",
    "x = y      #              #              #               #\n",
    "y = swap   #              #              #               #\n",
    "~~~"
   ]
  },
  {
   "cell_type": "code",
   "execution_count": null,
   "metadata": {},
   "outputs": [],
   "source": []
  },
  {
   "cell_type": "markdown",
   "metadata": {},
   "source": [
    "## Predicting Values\n",
    "\n",
    "What is the final value of `position` in the program below?\n",
    "(Try to predict the value without running the program,\n",
    "then check your prediction.)\n",
    "\n",
    "~~~python\n",
    "initial = 'left'\n",
    "position = initial\n",
    "initial = 'right'\n",
    "~~~"
   ]
  },
  {
   "cell_type": "code",
   "execution_count": null,
   "metadata": {},
   "outputs": [],
   "source": []
  },
  {
   "cell_type": "markdown",
   "metadata": {},
   "source": [
    "If you assign `a = 123`,\n",
    "what happens if you try to get the second digit of `a` via `a[1]`?\n"
   ]
  },
  {
   "cell_type": "code",
   "execution_count": null,
   "metadata": {},
   "outputs": [],
   "source": []
  },
  {
   "cell_type": "markdown",
   "metadata": {},
   "source": [
    "## Choosing a Name\n",
    "\n",
    "Which is a better variable name, `m`, `min`, or `minutes`?\n",
    "Why?\n",
    "Hint: think about which code you would rather inherit\n",
    "from someone who is leaving the lab:\n",
    "\n",
    "1. `ts = m * 60 + s`\n",
    "2. `tot_sec = min * 60 + sec`\n",
    "3. `total_seconds = minutes * 60 + seconds`"
   ]
  },
  {
   "cell_type": "code",
   "execution_count": null,
   "metadata": {},
   "outputs": [],
   "source": []
  },
  {
   "cell_type": "markdown",
   "metadata": {},
   "source": [
    "## Slicing\n",
    "\n",
    "What does the following program print?\n",
    "\n",
    "~~~python\n",
    "atom_name = 'carbon'\n",
    "print('atom_name[1:3] is:', atom_name[1:3])\n",
    "~~~"
   ]
  },
  {
   "cell_type": "code",
   "execution_count": null,
   "metadata": {},
   "outputs": [],
   "source": []
  },
  {
   "cell_type": "markdown",
   "metadata": {},
   "source": [
    "1.  What does `thing[low:high]` do?\n",
    "2.  What does `thing[low:]` (without a value after the colon) do?\n",
    "3.  What does `thing[:high]` (without a value before the colon) do?\n",
    "4.  What does `thing[:]` (just a colon) do?\n",
    "5.  What does `thing[number:negative-number]` do?\n",
    "6.  What happens when you choose a `high` value which is out of range? (i.e., try `atom_name[0:15]`) "
   ]
  },
  {
   "cell_type": "code",
   "execution_count": null,
   "metadata": {},
   "outputs": [],
   "source": []
  },
  {
   "cell_type": "markdown",
   "metadata": {},
   "source": [
    "## Key Points\n",
    "- Use variables to store values.\n",
    "- Use `print` to display values.\n",
    "- Variables persist between cells.\n",
    "- Variables must be created before they are used.\n",
    "- Variables can be used in calculations.\n",
    "- Use an index to get a single character from a string.\n",
    "- Use a slice to get a substring.\n",
    "- Use the built-in function `len` to find the length of a string.\n",
    "- Python is case-sensitive.\n",
    "- Use meaningful variable names."
   ]
  }
 ],
 "metadata": {
  "kernelspec": {
   "display_name": "Python 3",
   "language": "python",
   "name": "python3"
  },
  "language_info": {
   "codemirror_mode": {
    "name": "ipython",
    "version": 3
   },
   "file_extension": ".py",
   "mimetype": "text/x-python",
   "name": "python",
   "nbconvert_exporter": "python",
   "pygments_lexer": "ipython3",
   "version": "3.7.2"
  }
 },
 "nbformat": 4,
 "nbformat_minor": 2
}
